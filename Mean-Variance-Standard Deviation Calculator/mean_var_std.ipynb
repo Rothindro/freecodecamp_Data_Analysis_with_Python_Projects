{
 "cells": [
  {
   "cell_type": "code",
   "execution_count": 1,
   "id": "57c0f469-92a8-4142-9832-8243cc3f53a4",
   "metadata": {},
   "outputs": [],
   "source": [
    "import numpy as np\n",
    "\n",
    "def calculate(list):\n",
    "    if len (list)==9:\n",
    "        u_list=[int(x) for x in list]\n",
    "        u_matrix=np.array(u_list).reshape(3, 3)\n",
    "        mean1=np.mean(u_matrix)\n",
    "        m_axis0=np.mean(u_matrix, axis=0).tolist()\n",
    "        m_axis1=np.mean(u_matrix, axis=1).tolist()\n",
    "        variance1=np.var(u_matrix)\n",
    "        v_axis0=np.var(u_matrix, axis=0).tolist()\n",
    "        v_axis1=np.var(u_matrix, axis=1).tolist()\n",
    "        stdv=np.std(u_matrix)\n",
    "        std_axis0=np.std(u_matrix, axis=0).tolist()\n",
    "        std_axis1=np.std(u_matrix, axis=1).tolist()\n",
    "        maxi = np.max(u_matrix)\n",
    "        mx_axis0 = np.max(u_matrix, axis=0).tolist()\n",
    "        mx_axis1 = np.max(u_matrix, axis=1).tolist()\n",
    "        mini=np.min(u_matrix)\n",
    "        mni_axis0=np.min(u_matrix, axis=0).tolist()\n",
    "        mni_axis1=np.min(u_matrix, axis=1).tolist()\n",
    "        suma=np.sum(u_matrix)\n",
    "        sm_axis0=np.sum(u_matrix, axis=0).tolist()\n",
    "        sm_axis1=np.sum(u_matrix, axis=1).tolist()\n",
    "\n",
    "        calculations={\n",
    "            \"mean\":[m_axis0, m_axis1, mean1],\n",
    "            \"variance\": [v_axis0, v_axis1, variance1],\n",
    "            \"standard deviation\": [std_axis0, std_axis1, stdv],\n",
    "            \"max\": [mx_axis0, mx_axis1, maxi],\n",
    "            \"min\": [mni_axis0, mni_axis1, mini],\n",
    "            \"sum\": [sm_axis0, sm_axis1, suma]\n",
    "            }\n",
    "        return calculations\n",
    "    else:\n",
    "        raise ValueError (\"List must contain nine numbers.\")"
   ]
  },
  {
   "cell_type": "code",
   "execution_count": 3,
   "id": "5f19584f-f1df-4fa6-b309-6a81186da40b",
   "metadata": {},
   "outputs": [
    {
     "data": {
      "text/plain": [
       "{'mean': [[3.0, 4.0, 5.0], [1.0, 4.0, 7.0], 4.0],\n",
       " 'variance': [[6.0, 6.0, 6.0],\n",
       "  [0.6666666666666666, 0.6666666666666666, 0.6666666666666666],\n",
       "  6.666666666666667],\n",
       " 'standard deviation': [[2.449489742783178,\n",
       "   2.449489742783178,\n",
       "   2.449489742783178],\n",
       "  [0.816496580927726, 0.816496580927726, 0.816496580927726],\n",
       "  2.581988897471611],\n",
       " 'max': [[6, 7, 8], [2, 5, 8], 8],\n",
       " 'min': [[0, 1, 2], [0, 3, 6], 0],\n",
       " 'sum': [[9, 12, 15], [3, 12, 21], 36]}"
      ]
     },
     "execution_count": 3,
     "metadata": {},
     "output_type": "execute_result"
    }
   ],
   "source": [
    "#Input example from freecodecamp project\n",
    "df=calculate([0,1,2,3,4,5,6,7,8])\n",
    "df"
   ]
  },
  {
   "cell_type": "code",
   "execution_count": null,
   "id": "da0e50b0-4337-4b1d-8049-a4eb157aca7a",
   "metadata": {},
   "outputs": [],
   "source": []
  }
 ],
 "metadata": {
  "kernelspec": {
   "display_name": "Python 3 (ipykernel)",
   "language": "python",
   "name": "python3"
  },
  "language_info": {
   "codemirror_mode": {
    "name": "ipython",
    "version": 3
   },
   "file_extension": ".py",
   "mimetype": "text/x-python",
   "name": "python",
   "nbconvert_exporter": "python",
   "pygments_lexer": "ipython3",
   "version": "3.12.4"
  }
 },
 "nbformat": 4,
 "nbformat_minor": 5
}
